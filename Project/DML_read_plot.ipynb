{
 "cells": [
  {
   "cell_type": "markdown",
   "id": "cc4ca4a3",
   "metadata": {},
   "source": [
    "#  Project group 30 \n",
    "## Image colorization by combining semantic segmentation and autoencoding "
   ]
  },
  {
   "cell_type": "markdown",
   "id": "f7d77819",
   "metadata": {},
   "source": [
    "Install dependencies"
   ]
  },
  {
   "cell_type": "code",
   "execution_count": 1,
   "id": "8775d112",
   "metadata": {},
   "outputs": [],
   "source": [
    "import torch\n",
    "import torch.utils.data as data\n",
    "from torch.utils.data import TensorDataset, DataLoader\n",
    "import torchvision.transforms\n",
    "from torchvision.transforms import ToTensor\n",
    "from torch import nn, optim\n",
    "from torchvision.transforms import Compose, RandomGrayscale, ColorJitter, RandomHorizontalFlip, Resize, Normalize\n",
    "\n",
    "from sklearn.model_selection import train_test_split\n",
    "from sklearn.metrics import confusion_matrix\n",
    "\n",
    "from pathlib import Path\n",
    "\n",
    "import pandas as pd\n",
    "import numpy as np\n",
    "import matplotlib.pyplot as plt\n",
    "from matplotlib import colors\n",
    "\n",
    "from PIL import Image, ImageOps \n",
    "\n",
    "#!pip install kornia\n",
    "from matplotlib.colors import LinearSegmentedColormap\n",
    "import kornia\n",
    "\n",
    "import glob\n",
    "import os"
   ]
  },
  {
   "cell_type": "markdown",
   "id": "7d4e4e06-2a54-4349-9aab-e5cd139dbd8a",
   "metadata": {},
   "source": [
    "Read and process"
   ]
  },
  {
   "cell_type": "code",
   "execution_count": null,
   "id": "2aab6de6-5e8e-4fda-88d4-481271ce3c31",
   "metadata": {},
   "outputs": [],
   "source": []
  }
 ],
 "metadata": {
  "kernelspec": {
   "display_name": "Python 3 (ipykernel)",
   "language": "python",
   "name": "python3"
  },
  "language_info": {
   "codemirror_mode": {
    "name": "ipython",
    "version": 3
   },
   "file_extension": ".py",
   "mimetype": "text/x-python",
   "name": "python",
   "nbconvert_exporter": "python",
   "pygments_lexer": "ipython3",
   "version": "3.9.18"
  }
 },
 "nbformat": 4,
 "nbformat_minor": 5
}
